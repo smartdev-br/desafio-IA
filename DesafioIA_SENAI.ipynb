{
 "cells": [
  {
   "cell_type": "code",
   "execution_count": null,
   "metadata": {
    "_cell_guid": "b1076dfc-b9ad-4769-8c92-a6c4dae69d19",
    "_uuid": "8f2839f25d086af736a60e9eeb907d3b93b6e0e5"
   },
   "outputs": [],
   "source": [
    "#Import some packages to use\n",
    "import cv2\n",
    "import numpy as np\n",
    "import pandas as pd\n",
    "\n",
    "import matplotlib.pyplot as plt\n",
    "%matplotlib inline \n",
    "\n",
    "#To see our directory\n",
    "import os\n",
    "import random\n",
    "import gc   #Gabage collector for cleaning deleted data from memory\n"
   ]
  },
  {
   "cell_type": "code",
   "execution_count": null,
   "metadata": {
    "_uuid": "cf9b6bdfbb7bbeff9f5da51eadb71faf8a451603"
   },
   "outputs": [],
   "source": [
    "train_dir = 'train'\n",
    "test_dir = 'test'\n",
    "\n",
    "train_dogs = ['train/{}'.format(i) for i in os.listdir(train_dir) if 'dog' in i]  #get dog images\n",
    "train_cats = ['train/{}'.format(i) for i in os.listdir(train_dir) if 'cat' in i]  #get cat images\n",
    "\n",
    "test_imgs = ['test/{}'.format(i) for i in os.listdir(test_dir)] #get test images\n",
    "\n",
    "train_imgs = train_dogs[:2000] + train_cats[:2000]  # slice the dataset and use 2000 in each class\n",
    "random.shuffle(train_imgs)  # shuffle it randomly\n",
    "\n",
    "#Clear list that are useless\n",
    "del train_dogs\n",
    "del train_cats\n",
    "gc.collect()   #collect garbage to save memory"
   ]
  },
  {
   "cell_type": "code",
   "execution_count": null,
   "metadata": {
    "_uuid": "5f4f8d5cba1748b3c9a800aef21b3665da8d4615"
   },
   "outputs": [],
   "source": [
    "#Lets declare our image dimensions\n",
    "#we are using coloured images. \n",
    "nrows = 150\n",
    "ncolumns = 150\n",
    "channels = 3  #change to 1 if you want to use grayscale image\n",
    "\n",
    "\n",
    "#A function to read and process the images to an acceptable format for our model\n",
    "def read_and_process_image(list_of_images):\n",
    "    \"\"\"\n",
    "    Returns two arrays: \n",
    "        X is an array of resized images\n",
    "        y is an array of labels\n",
    "    \"\"\"\n",
    "    X = [] # images\n",
    "    y = [] # labels\n",
    "    \n",
    "    for image in list_of_images:\n",
    "        X.append(cv2.resize(cv2.imread(image, cv2.IMREAD_COLOR), (nrows,ncolumns), interpolation=cv2.INTER_CUBIC))  #Read the image\n",
    "        #get the labels\n",
    "        if 'dog' in image:\n",
    "            y.append(1)\n",
    "        elif 'cat' in image:\n",
    "            y.append(0)\n",
    "    \n",
    "    return X, y"
   ]
  },
  {
   "cell_type": "code",
   "execution_count": null,
   "metadata": {
    "_uuid": "00cc550b88aaf9185b76a222b1e71334852c96e4"
   },
   "outputs": [],
   "source": [
    "#get the train and label data\n",
    "X, y = read_and_process_image(train_imgs)"
   ]
  },
  {
   "cell_type": "code",
   "execution_count": null,
   "metadata": {
    "_uuid": "34d8e84942641c098aa4d9c27d6eea3677841df8"
   },
   "outputs": [],
   "source": [
    "#Lets view some of the pics\n",
    "plt.figure(figsize=(20,10))\n",
    "columns = 5\n",
    "for i in range(columns):\n",
    "    plt.subplot(5 / columns + 1, columns, i + 1)\n",
    "    plt.imshow(X[i])\n"
   ]
  },
  {
   "cell_type": "code",
   "execution_count": null,
   "metadata": {
    "_uuid": "f802b89c6f5c0d5375abc406f5e06f5484ecf184"
   },
   "outputs": [],
   "source": [
    "import seaborn as sns\n",
    "del train_imgs\n",
    "gc.collect()\n",
    "\n",
    "#Convert list to numpy array\n",
    "X = np.array(X)\n",
    "y = np.array(y)\n",
    "\n",
    "#Lets plot the label to be sure we just have two class\n",
    "sns.countplot(y)\n",
    "plt.title('Labels for Cats and Dogs')"
   ]
  },
  {
   "cell_type": "code",
   "execution_count": null,
   "metadata": {
    "_uuid": "64e9d91fcf06646078638b92f03e6fc190017b12"
   },
   "outputs": [],
   "source": [
    "print(\"Shape of train images is:\", X.shape)\n",
    "print(\"Shape of labels is:\", y.shape)"
   ]
  },
  {
   "cell_type": "code",
   "execution_count": null,
   "metadata": {
    "_uuid": "1be578474747d0b493dd38b65422e53b524463ef"
   },
   "outputs": [],
   "source": [
    "#Lets split the data into train and test set\n",
    "from sklearn.model_selection import train_test_split\n",
    "X_train, X_val, y_train, y_val = train_test_split(X, y, test_size=0.20, random_state=2)\n",
    "\n",
    "print(\"Shape of train images is:\", X_train.shape)\n",
    "print(\"Shape of validation images is:\", X_val.shape)\n",
    "print(\"Shape of labels is:\", y_train.shape)\n",
    "print(\"Shape of labels is:\", y_val.shape)"
   ]
  },
  {
   "cell_type": "code",
   "execution_count": null,
   "metadata": {
    "_uuid": "ad1ba887aa06009efabcec6b6d4c015c671b0dda"
   },
   "outputs": [],
   "source": [
    "#clear memory\n",
    "del X\n",
    "del y\n",
    "gc.collect()\n",
    "\n",
    "#get the length of the train and validation data\n",
    "ntrain = len(X_train)\n",
    "nval = len(X_val)\n",
    "\n",
    "#We will use a batch size of 32. Note: batch size should be a factor of 2.***4,8,16,32,64...***\n",
    "batch_size = 32 \n"
   ]
  },
  {
   "cell_type": "code",
   "execution_count": null,
   "metadata": {
    "_uuid": "3819c1880f1b9b85bebe70d60747fbcacfdd2198"
   },
   "outputs": [],
   "source": [
    "#LModelo de IA - Completar!!!\n",
    "\n",
    "\n",
    "model.summary()"
   ]
  },
  {
   "cell_type": "code",
   "execution_count": null,
   "metadata": {
    "_uuid": "e76686be36b4cf570402eb52db63901e4d42df84"
   },
   "outputs": [],
   "source": [
    "#Lets create the augmentation configuration\n",
    "#This helps prevent overfitting, since we are using a small dataset\n",
    "train_datagen = ImageDataGenerator(rescale=1./255,   #Scale the image between 0 and 1\n",
    "                                    rotation_range=40,\n",
    "                                    width_shift_range=0.2,\n",
    "                                    height_shift_range=0.2,\n",
    "                                    shear_range=0.2,\n",
    "                                    zoom_range=0.2,\n",
    "                                    horizontal_flip=True,)\n",
    "\n",
    "val_datagen = ImageDataGenerator(rescale=1./255)  #We do not augment validation data. we only perform rescale"
   ]
  },
  {
   "cell_type": "code",
   "execution_count": null,
   "metadata": {
    "_uuid": "5d375212932d85aba68c73c0b02103c04bdfe60e"
   },
   "outputs": [],
   "source": [
    "#Create the image generators\n",
    "train_generator = train_datagen.flow(X_train, y_train, batch_size=batch_size)\n",
    "val_generator = val_datagen.flow(X_val, y_val, batch_size=batch_size)"
   ]
  },
  {
   "cell_type": "code",
   "execution_count": null,
   "metadata": {
    "_uuid": "576d8d10a4b6f59fa39e9bc44b954aae887d2954",
    "scrolled": false
   },
   "outputs": [],
   "source": [
    "#The training part\n",
    "#We train for 64 epochs with about 100 steps per epoch\n",
    "history = model.fit_generator(train_generator,\n",
    "                              steps_per_epoch=ntrain // batch_size,\n",
    "                              epochs=64,\n",
    "                              validation_data=val_generator,\n",
    "                              validation_steps=nval // batch_size)"
   ]
  },
  {
   "cell_type": "code",
   "execution_count": null,
   "metadata": {
    "_uuid": "02e8aaf73583b328f76b025240eb9914cdf12bf0"
   },
   "outputs": [],
   "source": [
    "#lets plot the train and val curve\n",
    "#get the details form the history object\n",
    "acc = history.history['acc']\n",
    "val_acc = history.history['val_acc']\n",
    "loss = history.history['loss']\n",
    "val_loss = history.history['val_loss']\n",
    "\n",
    "epochs = range(1, len(acc) + 1)\n",
    "\n",
    "#Train and validation accuracy\n",
    "plt.plot(epochs, acc, 'b', label='Training accurarcy')\n",
    "plt.plot(epochs, val_acc, 'r', label='Validation accurarcy')\n",
    "plt.title('Training and Validation accurarcy')\n",
    "plt.legend()\n",
    "\n",
    "plt.figure()\n",
    "#Train and validation loss\n",
    "plt.plot(epochs, loss, 'b', label='Training loss')\n",
    "plt.plot(epochs, val_loss, 'r', label='Validation loss')\n",
    "plt.title('Training and Validation loss')\n",
    "plt.legend()\n",
    "\n",
    "plt.show()\n"
   ]
  },
  {
   "cell_type": "code",
   "execution_count": null,
   "metadata": {
    "_uuid": "4a3e841ea9e128d78d441116a446d2dcfe87b088"
   },
   "outputs": [],
   "source": [
    "#Now lets predict on the first 10 Images of the test set\n",
    "X_test, y_test = read_and_process_image(test_imgs[0:10]) #Y_test in this case will be empty.\n",
    "x = np.array(X_test)\n",
    "test_datagen = ImageDataGenerator(rescale=1./255) "
   ]
  },
  {
   "cell_type": "code",
   "execution_count": null,
   "metadata": {
    "_uuid": "a5c60e0f62fd335f57bb3d748d1039125cf2c78e",
    "scrolled": false
   },
   "outputs": [],
   "source": [
    "i = 0\n",
    "text_labels = []\n",
    "plt.figure(figsize=(30,20))\n",
    "for batch in test_datagen.flow(x, batch_size=1):\n",
    "    pred = model.predict(batch)\n",
    "    if pred > 0.5:\n",
    "        text_labels.append('dog')\n",
    "    else:\n",
    "        text_labels.append('cat')\n",
    "    plt.subplot(5 / columns + 1, columns, i + 1)\n",
    "    plt.title('This is a ' + text_labels[i])\n",
    "    imgplot = plt.imshow(batch[0])\n",
    "    i += 1\n",
    "    if i % 10 == 0:\n",
    "        break\n",
    "plt.show()"
   ]
  }
 ],
 "metadata": {
  "kernelspec": {
   "display_name": "Python 3",
   "language": "python",
   "name": "python3"
  },
  "language_info": {
   "codemirror_mode": {
    "name": "ipython",
    "version": 3
   },
   "file_extension": ".py",
   "mimetype": "text/x-python",
   "name": "python",
   "nbconvert_exporter": "python",
   "pygments_lexer": "ipython3",
   "version": "3.6.3"
  }
 },
 "nbformat": 4,
 "nbformat_minor": 1
}
